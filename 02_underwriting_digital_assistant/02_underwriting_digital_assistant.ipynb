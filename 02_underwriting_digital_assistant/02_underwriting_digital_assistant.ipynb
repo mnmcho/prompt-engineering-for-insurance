{
 "cells": [
  {
   "cell_type": "markdown",
   "id": "75ada075-6b00-4c32-a1e8-36fb9a715a3d",
   "metadata": {
    "tags": []
   },
   "source": [
    "# Digital Assistant for Underwriting"
   ]
  },
  {
   "cell_type": "markdown",
   "id": "fa1c658a-282b-4a6c-a376-69234a1b5101",
   "metadata": {
    "tags": []
   },
   "source": [
    "### Setup\n",
    "\n",
    "Run the following setup cell to load the Amazon Bedrock client and define the `get_completion` helper function."
   ]
  },
  {
   "cell_type": "code",
   "execution_count": null,
   "id": "27958116-7384-40f9-8016-02966fdcb15d",
   "metadata": {
    "tags": []
   },
   "outputs": [],
   "source": [
    "# Setup\n",
    "from anthropic import AnthropicBedrock\n",
    "import sample_solution as sample\n",
    "\n",
    "%store -r MODEL_NAME\n",
    "%store -r AWS_REGION\n",
    "\n",
    "client = AnthropicBedrock(aws_region=AWS_REGION)\n",
    "\n",
    "def get_completion(prompt, system='', prefill=''):\n",
    "    message = client.messages.create(\n",
    "        model=MODEL_NAME,\n",
    "        max_tokens=4096,\n",
    "        temperature=0.0,\n",
    "        messages=[\n",
    "          {\"role\": \"user\", \"content\": prompt},\n",
    "          {\"role\": \"assistant\", \"content\": prefill}\n",
    "        ],\n",
    "        system=system\n",
    "    )\n",
    "    return message.content[0].text"
   ]
  },
  {
   "cell_type": "markdown",
   "id": "b9f15c9f-801b-4a95-bc72-fcfbb21089d0",
   "metadata": {},
   "source": [
    "---"
   ]
  },
  {
   "cell_type": "markdown",
   "id": "0f7c8ad3-3551-40b5-a276-886f169cdfee",
   "metadata": {},
   "source": [
    "## Challenges\n",
    "\n",
    "For the following challenges, we will be building prompts to assist in insurnace underwriting. Underwriting in insurance is a process of evaluating a risk to determine if the company will insure an entity, and if yes, how they price it.\n",
    "\n",
    "Claude can be used for insurance underwriting to strealine the process and enhance risk assessment through automation.\n",
    "\n",
    "**Note: Not all prompts need every element of the prompt engineering.** We encourage you to play around with and include or disinclude elements and see how it affects Claude's response. It is usually best to use many prompt elements to get your prompt working first, then refine and slim down your prompt afterward."
   ]
  },
  {
   "cell_type": "markdown",
   "id": "0fbf885a-58e9-4c86-9bbd-b03debd8cae8",
   "metadata": {},
   "source": [
    "### Loading the data\n",
    "\n",
    "For this challenge, we will use Claude to evaluate the risk profile of our applicant, Raj Pathak, to determine whether the company will insure him and, if so, to categorize his risk level.\n",
    "\n",
    "We will be using the following text data for upcoming challenges:\n",
    "\n",
    "1. Underwriting Instructions ([text file](data/original_files/UnderwritingInstructions.txt))\n",
    "    * This file provides detailed underwriting instructions for evaluating the life insurance application.\n",
    "    * Text of this file will be stored in the variable `UNDERWRITING_INSTRUCTION`.\n",
    "2. Underwriting Risk Classification Guide ([PDF file](data/original_files/Main_Street_Life_Insurance_Underwriting_Risk_Classification_Guide.pdf))\n",
    "    * This file provides a comprehensive framework for underwriters to assess risks and classify applicants into appropriate risk categories.\n",
    "    * Text of this file will be stored in the variable `UNDERWRITING_GUIDE`.\n",
    "3. Case File for Raj Pathak ([PDF file](data/original_files/raj_pathak_case_file.pdf))\n",
    "    * This file contains comprehensive medical, financial, driving, and prescription records for Raj Pathak.\n",
    "    * Text of this file will be stored in the variable `CASE_FILE`.\n",
    "4. Electrocardiogram for Raj Pathak ([PDF file](data/original_files/Electrocardiogram.pdf))\n",
    "    * This file contains electrocardiogram (EKG) report for Raj Pathak.\n",
    "    * Text of this file will be stored in the variable `ECD`."
   ]
  },
  {
   "cell_type": "code",
   "execution_count": null,
   "id": "869159ad-dc4e-489e-96aa-ad4e0cab254e",
   "metadata": {
    "tags": []
   },
   "outputs": [],
   "source": [
    "# Read and store the data\n",
    "with open('data/underwriting_instructions.txt', 'r') as file:\n",
    "    UNDERWRITING_INSTRUCTION = file.read()\n",
    "\n",
    "with open('data/life_insurance_underwriting_risk_classification_guide.txt', 'r') as file:\n",
    "    UNDERWRITING_GUIDE = file.read()\n",
    "\n",
    "with open('data/raj_pathak_case_file.txt', 'r') as file:\n",
    "    CASE_FILE = file.read()\n",
    "    \n",
    "with open('data/electrocardiogram.txt', 'r') as file:\n",
    "    ECD = file.read()\n",
    "\n",
    "# Uncomment the following line(s) to view the data\n",
    "# print(INSTRUCTION)\n",
    "# print(RISK_GUIDE)\n",
    "# print(CASE_FILE)\n",
    "# print(ECD)"
   ]
  },
  {
   "cell_type": "markdown",
   "id": "0b0be6cd-8c9e-4d49-892c-6f4274368ec2",
   "metadata": {},
   "source": [
    "### 1. Summarize the Risk Categories and their Criteria\n",
    "\n",
    "To understand the assessment of the risk, we first want to understand about risk categories and how they are determined.\n",
    "\n",
    "**Write a prompt to summarize each risk category and criteria on how it is determined.** Claude is able to ingest large volumes of text and summarize only the parts that we need.\n",
    "\n",
    "Use the variable `UNDERWRITING_INSTRUCTION`, `UNDERWRITING_GUIDE`, `CASE_FILE`, and `ECD` within the prompt as needed."
   ]
  },
  {
   "cell_type": "code",
   "execution_count": null,
   "id": "02844b23-297c-4b73-b4b5-2e0d3ed3f9c9",
   "metadata": {},
   "outputs": [],
   "source": [
    "# Prompt\n",
    "prompt = f\"\"\"\n",
    "PASS\n",
    "\"\"\"\n",
    "\n",
    "# Get Claude's response\n",
    "print(get_completion(prompt))"
   ]
  },
  {
   "cell_type": "markdown",
   "id": "70f1c051-a80b-4f57-a81e-2730de3c5394",
   "metadata": {},
   "source": [
    "❓ If you want to see a sample prompt for this challenge, run the cell below."
   ]
  },
  {
   "cell_type": "code",
   "execution_count": null,
   "id": "3fd57ef9-6179-44e4-b7f1-43bbaefbcaf6",
   "metadata": {},
   "outputs": [],
   "source": [
    "print(sample.challenge_2_1_sample_solution)"
   ]
  },
  {
   "cell_type": "markdown",
   "id": "1fa9dbf1-a7fd-4a48-b665-37124f78684c",
   "metadata": {
    "tags": []
   },
   "source": [
    "### 2. Assess Raj Pathak's Risk Profile Based on Provided Instruction and Guide\n",
    "\n",
    "Now that we have an understanding of each risk category, let's assess the risk profile of our applicant, Raj Pathak.\n",
    "\n",
    "**Write a prompt to assess Raj Pathak's risk profile based on given instruction and guide.** Can we make Claude to make a precise decision backed by both instruction and guide?\n",
    "\n",
    "Use the variable `UNDERWRITING_INSTRUCTION`, `UNDERWRITING_GUIDE`, `CASE_FILE`, and `ECD` within the prompt as needed."
   ]
  },
  {
   "cell_type": "code",
   "execution_count": null,
   "id": "4179b75c-a9e4-4c90-b606-ce73e0fa9469",
   "metadata": {},
   "outputs": [],
   "source": [
    "# Prompt\n",
    "prompt = f\"\"\"\n",
    "PASS\n",
    "\"\"\"\n",
    "\n",
    "# Get Claude's response\n",
    "print(get_completion(prompt))"
   ]
  },
  {
   "cell_type": "markdown",
   "id": "373893bb-8779-4676-8b60-e0a0962b3edd",
   "metadata": {},
   "source": [
    "❓ If you want to see a sample prompt for this challenge, run the cell below."
   ]
  },
  {
   "cell_type": "code",
   "execution_count": null,
   "id": "19f3c847-5f34-42bc-b71c-66ae12dfd38c",
   "metadata": {
    "tags": []
   },
   "outputs": [],
   "source": [
    "print(sample.challenge_2_2_sample_solution)"
   ]
  },
  {
   "cell_type": "markdown",
   "id": "47de565d-6bfb-4c22-8079-6c6fd2529d2d",
   "metadata": {},
   "source": [
    "### Congrats!\n",
    "\n",
    "If you've solved all challenges, you're ready to move to the next chapter. Happy prompting!"
   ]
  }
 ],
 "metadata": {
  "kernelspec": {
   "display_name": "conda_python3",
   "language": "python",
   "name": "conda_python3"
  },
  "language_info": {
   "codemirror_mode": {
    "name": "ipython",
    "version": 3
   },
   "file_extension": ".py",
   "mimetype": "text/x-python",
   "name": "python",
   "nbconvert_exporter": "python",
   "pygments_lexer": "ipython3",
   "version": "3.10.13"
  }
 },
 "nbformat": 4,
 "nbformat_minor": 5
}
